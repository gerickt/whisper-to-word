{
 "cells": [
  {
   "cell_type": "code",
   "execution_count": null,
   "metadata": {},
   "outputs": [],
   "source": [
    "import os\n",
    "from docx import Document\n",
    "from pydub import AudioSegment\n",
    "import whisper"
   ]
  },
  {
   "cell_type": "code",
   "execution_count": null,
   "metadata": {},
   "outputs": [],
   "source": [
    "# Cargar el archivo de audio original\n",
    "audio = AudioSegment.from_file(\"audio/audio.mp3\")\n",
    "carpeta_entrada = \"data\"\n",
    "carpeta_salida = \"out\"\n",
    "duracion_segmento_ms = 10 * 60 * 1000  # 5 minutos en milisegundos"
   ]
  },
  {
   "cell_type": "code",
   "execution_count": null,
   "metadata": {},
   "outputs": [],
   "source": [
    "# Crear el modelo Whisper\n",
    "model = whisper.load_model(\"medium\", device=\"cuda\")\n",
    "\n",
    "# Si no tienes GPU descomemtar\n",
    "# model = whisper.load_model(\"medium\", device=\"cpu\")"
   ]
  },
  {
   "cell_type": "code",
   "execution_count": null,
   "metadata": {},
   "outputs": [],
   "source": [
    "# Dividir el archivo de audio en fragmentos mas pequeños\n",
    "for i in range(0, len(audio), duracion_segmento_ms):\n",
    "    segmento = audio[i : i + duracion_segmento_ms]\n",
    "    tiempo_inicio = (\n",
    "        i // 1000\n",
    "    )  # Convertir milisegundos a segundos para el tiempo de inicio real\n",
    "    minutos, segundos = divmod(tiempo_inicio, 60)\n",
    "    nombre_segmento = f\"{carpeta_entrada}/segmento_{i//duracion_segmento_ms}_{minutos:02d}_{segundos:02d}.mp3\"\n",
    "    segmento.export(nombre_segmento, format=\"mp3\")"
   ]
  },
  {
   "cell_type": "code",
   "execution_count": null,
   "metadata": {},
   "outputs": [],
   "source": [
    "# Procesar cada segmento de audio y transcribirlo de forma ordenada\n",
    "def procesar_y_transcribir(carpeta_entrada, carpeta_salida):\n",
    "    archivos = sorted(os.listdir(carpeta_entrada))  # Asegura un orden correcto\n",
    "    for archivo in archivos:\n",
    "        if archivo.endswith(\".mp3\"):\n",
    "            print(f\"Procesando: {archivo}\")\n",
    "            ruta_completa = os.path.join(carpeta_entrada, archivo)\n",
    "            result = model.transcribe(ruta_completa, language=\"es\")\n",
    "            texto_completo = result[\"text\"]\n",
    "\n",
    "            # Extraer la marca de tiempo directamente del nombre del archivo\n",
    "            nombre_sin_extension = os.path.splitext(archivo)[0]\n",
    "            _, marca_tiempo = nombre_sin_extension.rsplit(\"_\", 2)[0], \"_\".join(\n",
    "                nombre_sin_extension.rsplit(\"_\", 2)[1:]\n",
    "            )\n",
    "            marca_tiempo_formateada = marca_tiempo.replace(\n",
    "                \"_\", \":\"\n",
    "            )  # Convertir a formato de tiempo usual\n",
    "\n",
    "            nombre_archivo_salida = f\"{nombre_sin_extension}.txt\"\n",
    "            ruta_salida = os.path.join(carpeta_salida, nombre_archivo_salida)\n",
    "\n",
    "            with open(ruta_salida, \"w\", encoding=\"utf-8\") as file:\n",
    "                # Incluir la marca de tiempo al inicio del archivo de texto\n",
    "                file.write(\n",
    "                    f\"Tiempo de inicio: {marca_tiempo_formateada}\\n\\n{texto_completo}\"\n",
    "                )\n",
    "            print(f\"Transcripción guardada en: {ruta_salida}\")\n",
    "\n",
    "\n",
    "procesar_y_transcribir(carpeta_entrada, carpeta_salida)"
   ]
  },
  {
   "cell_type": "code",
   "execution_count": null,
   "metadata": {},
   "outputs": [],
   "source": [
    "# Exportar a documento de Word\n",
    "carpeta_salida = \"out\"\n",
    "archivos_txt = sorted([f for f in os.listdir(carpeta_salida) if f.endswith(\".txt\")])\n",
    "\n",
    "doc = Document()\n",
    "\n",
    "for archivo in archivos_txt:\n",
    "    with open(os.path.join(carpeta_salida, archivo), \"r\", encoding=\"utf-8\") as file:\n",
    "        contenido = file.read()\n",
    "        doc.add_paragraph(contenido)\n",
    "        if archivo != archivos_txt[-1]:\n",
    "            doc.add_page_break()\n",
    "\n",
    "nombre_doc_word = \"Documento_Transcripcion.docx\"\n",
    "doc.save(nombre_doc_word)"
   ]
  }
 ],
 "metadata": {
  "kernelspec": {
   "display_name": ".venv",
   "language": "python",
   "name": "python3"
  },
  "language_info": {
   "codemirror_mode": {
    "name": "ipython",
    "version": 3
   },
   "file_extension": ".py",
   "mimetype": "text/x-python",
   "name": "python",
   "nbconvert_exporter": "python",
   "pygments_lexer": "ipython3",
   "version": "3.11.4"
  }
 },
 "nbformat": 4,
 "nbformat_minor": 2
}
